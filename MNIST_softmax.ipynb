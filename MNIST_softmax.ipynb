{
 "cells": [
  {
   "cell_type": "markdown",
   "metadata": {},
   "source": [
    "## 10-1\n",
    "## MNIST-softmax"
   ]
  },
  {
   "cell_type": "code",
   "execution_count": 2,
   "metadata": {},
   "outputs": [],
   "source": [
    "import tensorflow as tf\n",
    "import matplotlib.pyplot as plt\n",
    "import random\n",
    "\n",
    "from tensorflow.examples.tutorials.mnist import input_data"
   ]
  },
  {
   "cell_type": "code",
   "execution_count": 3,
   "metadata": {},
   "outputs": [],
   "source": [
    "tf.set_random_seed(777)"
   ]
  },
  {
   "cell_type": "code",
   "execution_count": 4,
   "metadata": {},
   "outputs": [
    {
     "name": "stdout",
     "output_type": "stream",
     "text": [
      "WARNING:tensorflow:From <ipython-input-4-1a516c502833>:1: read_data_sets (from tensorflow.contrib.learn.python.learn.datasets.mnist) is deprecated and will be removed in a future version.\n",
      "Instructions for updating:\n",
      "Please use alternatives such as official/mnist/dataset.py from tensorflow/models.\n",
      "WARNING:tensorflow:From C:\\ProgramData\\Anaconda3\\lib\\site-packages\\tensorflow_core\\contrib\\learn\\python\\learn\\datasets\\mnist.py:260: maybe_download (from tensorflow.contrib.learn.python.learn.datasets.base) is deprecated and will be removed in a future version.\n",
      "Instructions for updating:\n",
      "Please write your own downloading logic.\n",
      "WARNING:tensorflow:From C:\\ProgramData\\Anaconda3\\lib\\site-packages\\tensorflow_core\\contrib\\learn\\python\\learn\\datasets\\mnist.py:262: extract_images (from tensorflow.contrib.learn.python.learn.datasets.mnist) is deprecated and will be removed in a future version.\n",
      "Instructions for updating:\n",
      "Please use tf.data to implement this functionality.\n",
      "Extracting MNIST_data/train-images-idx3-ubyte.gz\n",
      "WARNING:tensorflow:From C:\\ProgramData\\Anaconda3\\lib\\site-packages\\tensorflow_core\\contrib\\learn\\python\\learn\\datasets\\mnist.py:267: extract_labels (from tensorflow.contrib.learn.python.learn.datasets.mnist) is deprecated and will be removed in a future version.\n",
      "Instructions for updating:\n",
      "Please use tf.data to implement this functionality.\n",
      "Extracting MNIST_data/train-labels-idx1-ubyte.gz\n",
      "WARNING:tensorflow:From C:\\ProgramData\\Anaconda3\\lib\\site-packages\\tensorflow_core\\contrib\\learn\\python\\learn\\datasets\\mnist.py:110: dense_to_one_hot (from tensorflow.contrib.learn.python.learn.datasets.mnist) is deprecated and will be removed in a future version.\n",
      "Instructions for updating:\n",
      "Please use tf.one_hot on tensors.\n",
      "Extracting MNIST_data/t10k-images-idx3-ubyte.gz\n",
      "Extracting MNIST_data/t10k-labels-idx1-ubyte.gz\n",
      "WARNING:tensorflow:From C:\\ProgramData\\Anaconda3\\lib\\site-packages\\tensorflow_core\\contrib\\learn\\python\\learn\\datasets\\mnist.py:290: DataSet.__init__ (from tensorflow.contrib.learn.python.learn.datasets.mnist) is deprecated and will be removed in a future version.\n",
      "Instructions for updating:\n",
      "Please use alternatives such as official/mnist/dataset.py from tensorflow/models.\n"
     ]
    }
   ],
   "source": [
    "mnist = input_data.read_data_sets(\"MNIST_data/\", one_hot = True)"
   ]
  },
  {
   "cell_type": "code",
   "execution_count": 5,
   "metadata": {},
   "outputs": [],
   "source": [
    "X = tf.placeholder(tf.float32,[None,784])\n",
    "Y = tf.placeholder(tf.float32,[None, 10])\n",
    "\n",
    "W = tf.Variable(tf.random_normal([784,10]))\n",
    "b = tf.Variable(tf.random_normal([10]))"
   ]
  },
  {
   "cell_type": "code",
   "execution_count": 6,
   "metadata": {},
   "outputs": [],
   "source": [
    "# parameters\n",
    "learning_rate = 0.001\n",
    "batch_size = 100\n",
    "num_epochs = 50\n",
    "num_iterations = int(mnist.train.num_examples / batch_size)\n",
    "\n",
    "hypothesis = tf.matmul(X,W)+b"
   ]
  },
  {
   "cell_type": "code",
   "execution_count": 8,
   "metadata": {},
   "outputs": [],
   "source": [
    "# define cost/loss & optimizer \n",
    "cost = tf.reduce_mean(\n",
    "    tf.nn.softmax_cross_entropy_with_logits_v2(\n",
    "        logits = hypothesis, labels = tf.stop_gradient(Y)\n",
    "    )\n",
    ")\n",
    "train = tf.train.AdamOptimizer(learning_rate = learning_rate).minimize(cost)\n",
    "\n",
    "correct_prediction = tf.equal(tf.argmax(hypothesis, axis = 1), tf.argmax(Y, axis = 1))\n",
    "accuracy = tf.reduce_mean(tf.cast(correct_prediction, tf.float32))"
   ]
  },
  {
   "cell_type": "code",
   "execution_count": 17,
   "metadata": {},
   "outputs": [
    {
     "name": "stdout",
     "output_type": "stream",
     "text": [
      "Epoch: 0001, Cost : 5.728569505\n",
      "Epoch: 0002, Cost : 1.774595657\n",
      "Epoch: 0003, Cost : 1.120494386\n",
      "Epoch: 0004, Cost : 0.870654649\n",
      "Epoch: 0005, Cost : 0.737279428\n",
      "Epoch: 0006, Cost : 0.653342793\n",
      "Epoch: 0007, Cost : 0.595188171\n",
      "Epoch: 0008, Cost : 0.551375857\n",
      "Epoch: 0009, Cost : 0.517696653\n",
      "Epoch: 0010, Cost : 0.489896703\n",
      "Epoch: 0011, Cost : 0.467383651\n",
      "Epoch: 0012, Cost : 0.448888884\n",
      "Epoch: 0013, Cost : 0.432247121\n",
      "Epoch: 0014, Cost : 0.418299488\n",
      "Epoch: 0015, Cost : 0.405785377\n",
      "Epoch: 0016, Cost : 0.395064194\n",
      "Epoch: 0017, Cost : 0.385584688\n",
      "Epoch: 0018, Cost : 0.376460670\n",
      "Epoch: 0019, Cost : 0.368092665\n",
      "Epoch: 0020, Cost : 0.361464998\n",
      "Epoch: 0021, Cost : 0.354501177\n",
      "Epoch: 0022, Cost : 0.348267135\n",
      "Epoch: 0023, Cost : 0.343099836\n",
      "Epoch: 0024, Cost : 0.337166114\n",
      "Epoch: 0025, Cost : 0.332162936\n",
      "Epoch: 0026, Cost : 0.327677757\n",
      "Epoch: 0027, Cost : 0.324332216\n",
      "Epoch: 0028, Cost : 0.319750598\n",
      "Epoch: 0029, Cost : 0.315708835\n",
      "Epoch: 0030, Cost : 0.312314882\n",
      "Epoch: 0031, Cost : 0.308946772\n",
      "Epoch: 0032, Cost : 0.305634273\n",
      "Epoch: 0033, Cost : 0.302595503\n",
      "Epoch: 0034, Cost : 0.299603972\n",
      "Epoch: 0035, Cost : 0.297194045\n",
      "Epoch: 0036, Cost : 0.294692677\n",
      "Epoch: 0037, Cost : 0.292189562\n",
      "Epoch: 0038, Cost : 0.289983107\n",
      "Epoch: 0039, Cost : 0.287757953\n",
      "Epoch: 0040, Cost : 0.285881642\n",
      "Epoch: 0041, Cost : 0.283544586\n",
      "Epoch: 0042, Cost : 0.281882171\n",
      "Epoch: 0043, Cost : 0.279949647\n",
      "Epoch: 0044, Cost : 0.278291475\n",
      "Epoch: 0045, Cost : 0.276386801\n",
      "Epoch: 0046, Cost : 0.275049411\n",
      "Epoch: 0047, Cost : 0.273143688\n",
      "Epoch: 0048, Cost : 0.271774268\n",
      "Epoch: 0049, Cost : 0.270177733\n",
      "Epoch: 0050, Cost : 0.269137857\n",
      "Learing Finished!\n",
      "Accuracy: 0.92\n",
      "Label:  [3]\n",
      "Prediction:  [3]\n"
     ]
    },
    {
     "data": {
      "image/png": "[encoded data removed]",
      "text/plain": [
       "<Figure size 432x288 with 1 Axes>"
      ]
     },
     "metadata": {
      "needs_background": "light"
     },
     "output_type": "display_data"
    }
   ],
   "source": [
    "# trian my model \n",
    "with tf.Session() as sess : \n",
    "    # initialize\n",
    "    sess.run(tf.global_variables_initializer())\n",
    "    \n",
    "    for epoch in range(num_epochs): \n",
    "        avg_cost = 0 \n",
    "        \n",
    "        for iteration in range(num_iterations): \n",
    "            batch_xs, batch_ys = mnist.train.next_batch(batch_size)\n",
    "            _,cost_val = sess.run([train, cost],feed_dict = {X : batch_xs, Y: batch_ys})\n",
    "            avg_cost += cost_val / num_iterations\n",
    "            \n",
    "        print(f\"Epoch: {(epoch + 1):04d}, Cost : {avg_cost:.9f}\")\n",
    "\n",
    "    print(\"Learing Finished!\")\n",
    "    # Test model and check accuracy \n",
    "    print(\n",
    "        \"Accuracy:\",\n",
    "        sess.run(accuracy, feed_dict={X: mnist.test.images, Y: mnist.test.labels}),\n",
    "    )\n",
    "    # Get one and predict\n",
    "    r = random.randint(0,mnist.test.num_examples - 1)\n",
    "    \n",
    "    # argmax => 최대값의 인덱스 \n",
    "    print(\"Label: \",sess.run(tf.argmax(mnist.test.labels[r : r + 1], axis = 1)))\n",
    "    print(\n",
    "        \"Prediction: \",\n",
    "        sess.run(\n",
    "            tf.argmax(hypothesis, axis = 1),feed_dict = {X: mnist.test.images[r : r + 1]}\n",
    "        ),\n",
    "    )\n",
    "    \n",
    "    plt.imshow(\n",
    "        mnist.test.images[r:r+1].reshape(28,28),\n",
    "        cmap = \"Greys\",\n",
    "        interpolation = \"nearest\",\n",
    "    )\n",
    "    plt.show()"
   ]
  },
  {
   "cell_type": "markdown",
   "metadata": {},
   "source": [
    "## MNIST - NN"
   ]
  },
  {
   "cell_type": "code",
   "execution_count": 18,
   "metadata": {},
   "outputs": [],
   "source": [
    "# parameters\n",
    "learning_rate = 0.001\n",
    "training_epochs = 15\n",
    "batch_size = 100"
   ]
  },
  {
   "cell_type": "code",
   "execution_count": 21,
   "metadata": {},
   "outputs": [],
   "source": [
    "# weight & bias for nn layers \n",
    "W1 = tf.Variable(tf.random_normal([784,256]))\n",
    "b1 = tf.Variable(tf.random_normal([256]))\n",
    "L1 = tf.nn.relu(tf.matmul(X,W1)+b1)\n",
    "\n",
    "# matmul -> 행렬의 곱셉 (matrix multiplication )\n",
    "W2 = tf.Variable(tf.random_normal([256,256]))\n",
    "b1 = tf.Variable(tf.random_normal([256]))\n",
    "L2 = tf.nn.relu(tf.matmul(X,W1)+b1)\n",
    "\n",
    "W3 = tf.Variable(tf.random_normal([256,10]))\n",
    "b3 = tf.Variable(tf.random_normal([10]))\n",
    "hypothesis = tf.matmul(L2, W3) + b3\n"
   ]
  },
  {
   "cell_type": "code",
   "execution_count": 23,
   "metadata": {},
   "outputs": [],
   "source": [
    "# define cost/ loss & optimizer\n",
    "cost = tf.reduce_mean(tf.nn.softmax_cross_entropy_with_logits(\n",
    "    logits = hypothesis, labels = Y))\n",
    "optimizer = tf.train.AdamOptimizer(learning_rate = learning_rate).minimize(cost)"
   ]
  },
  {
   "cell_type": "code",
   "execution_count": 36,
   "metadata": {},
   "outputs": [
    {
     "name": "stdout",
     "output_type": "stream",
     "text": [
      "Epoch: 0001 cost = 20.560759332\n",
      "Epoch: 0002 cost = 5.023589465\n",
      "Epoch: 0003 cost = 3.389932234\n",
      "Epoch: 0004 cost = 2.511535576\n",
      "Epoch: 0005 cost = 1.963295718\n",
      "Epoch: 0006 cost = 1.563645199\n",
      "Epoch: 0007 cost = 1.262014373\n",
      "Epoch: 0008 cost = 1.041089502\n",
      "Epoch: 0009 cost = 0.843446407\n",
      "Epoch: 0010 cost = 0.693691239\n",
      "Epoch: 0011 cost = 0.568353104\n",
      "Epoch: 0012 cost = 0.458046663\n",
      "Epoch: 0013 cost = 0.378584641\n",
      "Epoch: 0014 cost = 0.308482025\n",
      "Epoch: 0015 cost = 0.251321707\n",
      "Learning Finished!\n",
      "Accuracy: 0.9409\n",
      "Label:  [4]\n",
      "Prediction:  [4]\n"
     ]
    },
    {
     "data": {
      "image/png": "[encoded data removed]",
      "text/plain": [
       "<Figure size 432x288 with 1 Axes>"
      ]
     },
     "metadata": {
      "needs_background": "light"
     },
     "output_type": "display_data"
    }
   ],
   "source": [
    "# initialize\n",
    "sess = tf.Session()\n",
    "sess.run(tf.global_variables_initializer())\n",
    "\n",
    "# train my model \n",
    "for epoch in range(training_epochs): \n",
    "    avg_cost = 0 \n",
    "    total_batch = int(mnist.train.num_examples / batch_size)\n",
    "    \n",
    "    for i in range(total_batch):\n",
    "        batch_xs, batch_ys = mnist.train.next_batch(batch_size)\n",
    "        feed_dict = {X : batch_xs, Y : batch_ys}\n",
    "        c, _ = sess.run([cost, optimizer],feed_dict = feed_dict)\n",
    "        avg_cost += c / total_batch\n",
    "\n",
    "    print('Epoch:', '%04d' % (epoch + 1),'cost =', '{:.9f}'.format(avg_cost))\n",
    "print('Learning Finished!')\n",
    "\n",
    "# Test model and check accuracy\n",
    "correct_prediction = tf.equal(tf.argmax(hypothesis, 1), tf.argmax(Y,1))\n",
    "accuracy = tf.reduce_mean(tf.cast(correct_prediction, tf.float32))\n",
    "print('Accuracy:', sess.run(accuracy, feed_dict={\n",
    "    X: mnist.test.images, Y : mnist.test.labels}))\n",
    "\n",
    "# Get one and predict\n",
    "r = random.randint(0,mnist.test.num_examples - 1)\n",
    "print(\"Label: \",sess.run(tf.argmax(mnist.test.labels[r:r+1],1)))\n",
    "print(\"Prediction: \", sess.run(\n",
    "    tf.argmax(hypothesis, 1),feed_dict = {X : mnist.test.images[r:r+1]}))\n",
    "\n",
    "plt.imshow(mnist.test.images[r:r + 1].\n",
    "          reshape(28, 28), cmap='Greys', interpolation='nearest')\n",
    "plt.show()"
   ]
  },
  {
   "cell_type": "code",
   "execution_count": null,
   "metadata": {},
   "outputs": [],
   "source": []
  }
 ],
 "metadata": {
  "kernelspec": {
   "display_name": "Python 3",
   "language": "python",
   "name": "python3"
  },
  "language_info": {
   "codemirror_mode": {
    "name": "ipython",
    "version": 3
   },
   "file_extension": ".py",
   "mimetype": "text/x-python",
   "name": "python",
   "nbconvert_exporter": "python",
   "pygments_lexer": "ipython3",
   "version": "3.7.6"
  }
 },
 "nbformat": 4,
 "nbformat_minor": 4
}
