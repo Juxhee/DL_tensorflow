{
  "nbformat": 4,
  "nbformat_minor": 0,
  "metadata": {
    "colab": {
      "name": "RNN_관련실습.ipynb",
      "provenance": [],
      "private_outputs": true,
      "collapsed_sections": [],
      "authorship_tag": "ABX9TyPBv0ZycJ11y88hbgxg+avr",
      "include_colab_link": true
    },
    "kernelspec": {
      "name": "python3",
      "display_name": "Python 3"
    }
  },
  "cells": [
    {
      "cell_type": "markdown",
      "metadata": {
        "id": "view-in-github",
        "colab_type": "text"
      },
      "source": [
        "<a href=\"https://colab.research.google.com/github/Juxhee/DL_tensorflow/blob/master/RNN_%EA%B4%80%EB%A0%A8%EC%8B%A4%EC%8A%B5.ipynb\" target=\"_parent\"><img src=\"https://colab.research.google.com/assets/colab-badge.svg\" alt=\"Open In Colab\"/></a>"
      ]
    },
    {
      "cell_type": "markdown",
      "metadata": {
        "id": "tWu0bRxThYBz",
        "colab_type": "text"
      },
      "source": [
        "## 임베딩\n"
      ]
    },
    {
      "cell_type": "code",
      "metadata": {
        "id": "lKNcV6Chgc-Q",
        "colab_type": "code",
        "colab": {}
      },
      "source": [
        "import tensorflow as tf \n",
        "print(tf.__version__)\n"
      ],
      "execution_count": 0,
      "outputs": []
    },
    {
      "cell_type": "code",
      "metadata": {
        "id": "61fOxbLvghKs",
        "colab_type": "code",
        "colab": {}
      },
      "source": [
        "!pip uninstall tensorflow\n",
        "!pip install tensorflow==1.15"
      ],
      "execution_count": 0,
      "outputs": []
    },
    {
      "cell_type": "code",
      "metadata": {
        "id": "SjyyU8yRghhf",
        "colab_type": "code",
        "colab": {}
      },
      "source": [
        "import tensorflow as tf\n",
        "print(tf.__version__)"
      ],
      "execution_count": 0,
      "outputs": []
    },
    {
      "cell_type": "code",
      "metadata": {
        "id": "v6QM8iohghto",
        "colab_type": "code",
        "colab": {}
      },
      "source": [
        "import numpy as np"
      ],
      "execution_count": 0,
      "outputs": []
    },
    {
      "cell_type": "code",
      "metadata": {
        "id": "LJiwhwfngh4W",
        "colab_type": "code",
        "colab": {}
      },
      "source": [
        "vocab_size = 100 # one-hot encoding된 vocab 크기\n",
        "embedding_size = 25 # 임베딩된 vocab크기 "
      ],
      "execution_count": 0,
      "outputs": []
    },
    {
      "cell_type": "code",
      "metadata": {
        "id": "hGGzRiobhPGi",
        "colab_type": "code",
        "colab": {}
      },
      "source": [
        "# 인풋 데이터 받기 위한 플레이스홀더 선언\n",
        "inputs = tf.placeholder(tf.int32, shape=[None])"
      ],
      "execution_count": 0,
      "outputs": []
    },
    {
      "cell_type": "code",
      "metadata": {
        "id": "mCdn5tKRhPM9",
        "colab_type": "code",
        "colab": {}
      },
      "source": [
        "# 인풋 데이터를 변환하기 위한 embedding matrix(100x25)선언\n",
        "embedding = tf.Variable(tf.random_normal([vocab_size,embedding_size]),dtype=tf.float32)\n",
        "# tf.nn.embedding_lookup :\n",
        "# int32나 int64 형태의 스칼라 형태의 인풋 데이터를 vocab 사이즈만큼의 임베딩된 vector로 변환\n",
        "embedded_inputs = tf.nn.embedding_lookup(embedding,inputs)\n"
      ],
      "execution_count": 0,
      "outputs": []
    },
    {
      "cell_type": "code",
      "metadata": {
        "id": "RLQfijqqhPUG",
        "colab_type": "code",
        "colab": {}
      },
      "source": [
        "# 세션을 열고 모든 변수에 초기값 할당\n",
        "sess = tf.Session()\n",
        "sess.run(tf.global_variables_initializer())"
      ],
      "execution_count": 0,
      "outputs": []
    },
    {
      "cell_type": "code",
      "metadata": {
        "id": "9RxsVftJhPcH",
        "colab_type": "code",
        "colab": {}
      },
      "source": [
        "# tf.nn.embedding_lookup 테스트 케이스 1\n",
        "input_data = np.array([7])\n",
        "print(\"Embedding 전 인풋 데이터 : \")\n",
        "# shape : [1,100]\n",
        "print(sess.run(tf.one_hot(input_data, vocab_size)))\n",
        "print(\"Embedding 결과 : \")\n",
        "# shape : [1,25]\n",
        "print(sess.run([embedded_inputs],feed_dict={inputs:input_data}))\n",
        "print(sess.run([embedded_inputs],feed_dict={inputs:input_data})[0].shape)\n",
        "# 임베딩된 차원을 출력"
      ],
      "execution_count": 0,
      "outputs": []
    },
    {
      "cell_type": "code",
      "metadata": {
        "id": "83ATnDOyhPj-",
        "colab_type": "code",
        "colab": {}
      },
      "source": [
        "# tf.nn.embedding_lookup 테스트 케이스 2\n",
        "input_data = np.array([7,11,67,42,21])\n",
        "print(\"Embedding 전 인풋 데이터 : \")\n",
        "# shape : [5,100]\n",
        "print(sess.run(tf.one_hot(input_data, vocab_size)))\n",
        "print(\"Embedding 결과 : \")\n",
        "# shape : [5,25]\n",
        "print(sess.run([embedded_inputs],feed_dict={inputs:input_data}))\n",
        "print(sess.run([embedded_inputs],feed_dict={inputs:input_data})[0].shape)\n",
        "# 임베딩된 차원을 출력"
      ],
      "execution_count": 0,
      "outputs": []
    },
    {
      "cell_type": "markdown",
      "metadata": {
        "id": "kP07OAMQjczn",
        "colab_type": "text"
      },
      "source": [
        "## 경사도 자르기\n"
      ]
    },
    {
      "cell_type": "code",
      "metadata": {
        "id": "p7Md88HtjgOZ",
        "colab_type": "code",
        "colab": {}
      },
      "source": [
        "# 선형 회귀 모델 정의\n",
        "W = tf.Variable(tf.random_normal(shape=[1],name=\"W\"))\n",
        "b = tf.Variable(tf.random_normal(shape=[1],name=\"b\"))\n",
        "x = tf.placeholder(tf.float32, name=\"x\")\n",
        "linear_model = W*x + b"
      ],
      "execution_count": 0,
      "outputs": []
    },
    {
      "cell_type": "code",
      "metadata": {
        "id": "uFIa9npzjgT8",
        "colab_type": "code",
        "colab": {}
      },
      "source": [
        "# true value를 입력받기 위한 플레이스홀더 정의\n",
        "y = tf.placeholder(tf.float32, name=\"y\")\n",
        "\n",
        "# 손실 함수 정의\n",
        "loss = tf.reduce_mean(tf.square(linear_model - y))"
      ],
      "execution_count": 0,
      "outputs": []
    },
    {
      "cell_type": "code",
      "metadata": {
        "id": "_ztxtshzjhYL",
        "colab_type": "code",
        "colab": {}
      },
      "source": [
        "# 최적화를 위한 그라디언트 디센트 옵티마이저 정의\n",
        "\n",
        "# 원본 코드\n",
        "'''\n",
        "optimizer = tf.train.GradientDescentOptimizer(0.01)\n",
        "train_step = optimizer.minimize(loss)\n",
        "'''"
      ],
      "execution_count": 0,
      "outputs": []
    },
    {
      "cell_type": "code",
      "metadata": {
        "id": "IDYXvLuLjhhi",
        "colab_type": "code",
        "colab": {}
      },
      "source": [
        "# gradient clipping 을 적용한 코드\n",
        "grad_clip = 5\n",
        "tvars = tf.trainable_variables()\n",
        "grads, _ = tf.clip_by_global_norm(tf.gradients(loss,tvars),grad_clip)\n",
        "optimizer = tf.train.GradientDescentOptimizer(0.01)\n",
        "train_step = optimizer.apply_gradients(zip(grads,tvars))"
      ],
      "execution_count": 0,
      "outputs": []
    },
    {
      "cell_type": "code",
      "metadata": {
        "id": "x8hkWoQkkfNc",
        "colab_type": "code",
        "colab": {}
      },
      "source": [
        "# 트레이닝을 위한 입력값과 출력값 준비\n",
        "x_train = [1,2,3,4]\n",
        "y_train = [2,4,6,8]\n",
        "\n",
        "# 세션 실행하고 파라미터를 normal distribution 에서 추출한 임의의 값으로 초기화\n",
        "sess = tf.Session()\n",
        "sess.run(tf.global_variables_initializer())"
      ],
      "execution_count": 0,
      "outputs": []
    },
    {
      "cell_type": "code",
      "metadata": {
        "id": "hISeS-LlkfUF",
        "colab_type": "code",
        "colab": {}
      },
      "source": [
        "# 경사하강법 1000번 수행\n",
        "for i in range(1000): \n",
        "  sess.run(train_step, feed_dict={x:x_train, y:y_train})\n",
        "\n",
        "x_test = [3.5,5,5.5,6]\n",
        "# 테스트 데이터 이용해 측정\n",
        "print(sess.run(linear_model, feed_dict={x:x_test}))\n",
        "sess.close()"
      ],
      "execution_count": 0,
      "outputs": []
    },
    {
      "cell_type": "code",
      "metadata": {
        "id": "4J4VDoudkfdz",
        "colab_type": "code",
        "colab": {}
      },
      "source": [
        ""
      ],
      "execution_count": 0,
      "outputs": []
    },
    {
      "cell_type": "code",
      "metadata": {
        "id": "vd-5VAotkfob",
        "colab_type": "code",
        "colab": {}
      },
      "source": [
        ""
      ],
      "execution_count": 0,
      "outputs": []
    }
  ]
}