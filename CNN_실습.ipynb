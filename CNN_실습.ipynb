{
 "cells": [
  {
   "cell_type": "markdown",
   "metadata": {},
   "source": [
    "# CNN"
   ]
  },
  {
   "cell_type": "markdown",
   "metadata": {},
   "source": [
    "## MNIST 숫자 분류를 위한 CNN 분류기 구현 "
   ]
  },
  {
   "cell_type": "code",
   "execution_count": 1,
   "metadata": {},
   "outputs": [],
   "source": [
    "import tensorflow as tf"
   ]
  },
  {
   "cell_type": "code",
   "execution_count": 2,
   "metadata": {},
   "outputs": [
    {
     "name": "stdout",
     "output_type": "stream",
     "text": [
      "WARNING:tensorflow:From <ipython-input-2-a396dfeb9f70>:3: read_data_sets (from tensorflow.contrib.learn.python.learn.datasets.mnist) is deprecated and will be removed in a future version.\n",
      "Instructions for updating:\n",
      "Please use alternatives such as official/mnist/dataset.py from tensorflow/models.\n",
      "WARNING:tensorflow:From C:\\ProgramData\\Anaconda3\\lib\\site-packages\\tensorflow_core\\contrib\\learn\\python\\learn\\datasets\\mnist.py:260: maybe_download (from tensorflow.contrib.learn.python.learn.datasets.base) is deprecated and will be removed in a future version.\n",
      "Instructions for updating:\n",
      "Please write your own downloading logic.\n",
      "WARNING:tensorflow:From C:\\ProgramData\\Anaconda3\\lib\\site-packages\\tensorflow_core\\contrib\\learn\\python\\learn\\datasets\\mnist.py:262: extract_images (from tensorflow.contrib.learn.python.learn.datasets.mnist) is deprecated and will be removed in a future version.\n",
      "Instructions for updating:\n",
      "Please use tf.data to implement this functionality.\n",
      "Extracting /tmp/data/train-images-idx3-ubyte.gz\n",
      "WARNING:tensorflow:From C:\\ProgramData\\Anaconda3\\lib\\site-packages\\tensorflow_core\\contrib\\learn\\python\\learn\\datasets\\mnist.py:267: extract_labels (from tensorflow.contrib.learn.python.learn.datasets.mnist) is deprecated and will be removed in a future version.\n",
      "Instructions for updating:\n",
      "Please use tf.data to implement this functionality.\n",
      "Extracting /tmp/data/train-labels-idx1-ubyte.gz\n",
      "WARNING:tensorflow:From C:\\ProgramData\\Anaconda3\\lib\\site-packages\\tensorflow_core\\contrib\\learn\\python\\learn\\datasets\\mnist.py:110: dense_to_one_hot (from tensorflow.contrib.learn.python.learn.datasets.mnist) is deprecated and will be removed in a future version.\n",
      "Instructions for updating:\n",
      "Please use tf.one_hot on tensors.\n",
      "Extracting /tmp/data/t10k-images-idx3-ubyte.gz\n",
      "Extracting /tmp/data/t10k-labels-idx1-ubyte.gz\n",
      "WARNING:tensorflow:From C:\\ProgramData\\Anaconda3\\lib\\site-packages\\tensorflow_core\\contrib\\learn\\python\\learn\\datasets\\mnist.py:290: DataSet.__init__ (from tensorflow.contrib.learn.python.learn.datasets.mnist) is deprecated and will be removed in a future version.\n",
      "Instructions for updating:\n",
      "Please use alternatives such as official/mnist/dataset.py from tensorflow/models.\n"
     ]
    }
   ],
   "source": [
    "# MNIST 데이터 다운로드\n",
    "from tensorflow.examples.tutorials.mnist import input_data\n",
    "mnist = input_data.read_data_sets(\"/tmp/data/\",one_hot = True)"
   ]
  },
  {
   "cell_type": "code",
   "execution_count": 2,
   "metadata": {},
   "outputs": [],
   "source": [
    "# CNN 모델 정의 \n",
    "def build_CNN_classifier(x): \n",
    "    # MNIST 데이터를 3차원 형태로 reshape MNIST 데이터는 grayscale 이미지이기 때문에 3번째 차원(컬러채널)의 값은 1이다.\n",
    "    x_image = tf.reshape(x,[-1,28,28,1])\n",
    "    \n",
    "    # 1번째 컨볼루션 층\n",
    "    # 5 x 5 Kernel size 를 가진 32개의 filter를 적용\n",
    "    W_conv1 = tf.Variable(tf.truncated_normal(shape=[5,5,1,32],stddev = 5e-2))\n",
    "    b_conv1 = tf.Variable(tf.constant(0.1,shape=[32]))\n",
    "    h_conv1 = tf.nn.relu(tf.nn.conv2d(x_image, W_conv1, strides=[1,1,1,1],padding='SAME')+ b_conv1)\n",
    "    \n",
    "    # 1번째 풀링층\n",
    "    # Max Pooling을 이용해서 이미지의 크기를 1/2로 downsample한다\n",
    "    # 28 x 28 x 32 -> 14 x 14 x 32\n",
    "    h_pool1 = tf.nn.max_pool(h_conv1, ksize=[1,2,2,1],strides=[1,2,2,1],padding='SAME')\n",
    "    \n",
    "    # 2번째 컨볼루션층 \n",
    "    # 5 x 5 kernel size를 가진 64개의 filter를 적용\n",
    "    # 14 x 14 x 32 -> 14 x 14 x 64\n",
    "    W_conv2 = tf.Variable(tf.truncated_normal(shape=[5,5,32,64], stddev=5e-2))\n",
    "    b_conv2 = tf.Variable(tf.constant(0.1,shape=[64]))\n",
    "    h_conv2 = tf.nn.relu(tf.nn.conv2d(h_pool1,W_conv2,strides=[1,1,1,1],padding='SAME')+ b_conv2)\n",
    "    \n",
    "    # 2번째 풀링층 \n",
    "    # Max pooling 을 이용해서 이미지의 크기를 1/2로 downsample\n",
    "    h_pool2 = tf.nn.max_pool(h_conv2, ksize=[1,2,2,1],strides=[1,2,2,1],padding='SAME')\n",
    "    \n",
    "    # 완전 연결층\n",
    "    # 7 x 7 크기를 가진 64개의 activation map을 1024개의 특징들로 변환 \n",
    "    # 7 x 7 x 64(3136)-> 1024\n",
    "    W_fc1 = tf.Variable(tf.truncated_normal(shape=[7*7*64,1024],stddev=5e-2))\n",
    "    b_fc1 = tf.Variable(tf.constant(0.1,shape=[1024]))\n",
    "    h_pool2_flat = tf.reshape(h_pool2, [-1,7*7*64])\n",
    "    h_fc1 = tf.nn.relu(tf.matmul(h_pool2_flat,W_fc1)+b_fc1)\n",
    "    \n",
    "    # 출력층\n",
    "    # 1024 개의 특징들(feature)을 10개의 클래스(One-hot Encoding으로 표현된 숫자 0~9)로 변환\n",
    "    # 1024 -> 10 \n",
    "    W_output = tf.Variable(tf.truncated_normal(shape=[1024,10],stddev=5e-2))\n",
    "    b_output = tf.Variable(tf.constant(0.1, shape=[10]))\n",
    "    logits = tf.matmul(h_fc1, W_output)+ b_output\n",
    "    y_pred = tf.nn.softmax(logits)\n",
    "    \n",
    "    return y_pred, logits"
   ]
  },
  {
   "cell_type": "code",
   "execution_count": 3,
   "metadata": {},
   "outputs": [],
   "source": [
    "# 인풋, 아웃풋 데이터를 받기 위한 플레이스 홀더 정의 \n",
    "x = tf.placeholder(tf.float32, shape=[None, 784])\n",
    "y = tf.placeholder(tf.float32, shape=[None, 10])"
   ]
  },
  {
   "cell_type": "code",
   "execution_count": 8,
   "metadata": {},
   "outputs": [],
   "source": [
    "# CNN 선언\n",
    "y_pred, logits = build_CNN_classifier(x)"
   ]
  },
  {
   "cell_type": "code",
   "execution_count": 9,
   "metadata": {},
   "outputs": [
    {
     "name": "stdout",
     "output_type": "stream",
     "text": [
      "WARNING:tensorflow:From <ipython-input-9-19b02794abd5>:2: softmax_cross_entropy_with_logits (from tensorflow.python.ops.nn_ops) is deprecated and will be removed in a future version.\n",
      "Instructions for updating:\n",
      "\n",
      "Future major versions of TensorFlow will allow gradients to flow\n",
      "into the labels input on backprop by default.\n",
      "\n",
      "See `tf.nn.softmax_cross_entropy_with_logits_v2`.\n",
      "\n"
     ]
    }
   ],
   "source": [
    "# Cross entropy 를 손실 함수(loss function)으로 정의하고 옵티마이저를 정의 \n",
    "loss = tf.reduce_mean(tf.nn.softmax_cross_entropy_with_logits(labels=y,logits=logits))\n",
    "train_step = tf.train.AdamOptimizer(1e-4).minimize(loss)"
   ]
  },
  {
   "cell_type": "code",
   "execution_count": 10,
   "metadata": {},
   "outputs": [],
   "source": [
    "# 정확도 계산\n",
    "correct_prediction = tf.equal(tf.argmax(y_pred, 1), tf.argmax(y,1))\n",
    "accuracy = tf.reduce_mean(tf.cast(correct_prediction, tf.float32))"
   ]
  },
  {
   "cell_type": "code",
   "execution_count": 11,
   "metadata": {},
   "outputs": [
    {
     "name": "stdout",
     "output_type": "stream",
     "text": [
      "반복(Epoch): 0, 트레이닝 데이터 정확도 : 0.140000\n",
      "반복(Epoch): 100, 트레이닝 데이터 정확도 : 0.780000\n",
      "반복(Epoch): 200, 트레이닝 데이터 정확도 : 0.940000\n",
      "반복(Epoch): 300, 트레이닝 데이터 정확도 : 0.940000\n",
      "반복(Epoch): 400, 트레이닝 데이터 정확도 : 0.900000\n",
      "반복(Epoch): 500, 트레이닝 데이터 정확도 : 0.960000\n",
      "반복(Epoch): 600, 트레이닝 데이터 정확도 : 0.880000\n",
      "반복(Epoch): 700, 트레이닝 데이터 정확도 : 1.000000\n",
      "반복(Epoch): 800, 트레이닝 데이터 정확도 : 0.960000\n",
      "반복(Epoch): 900, 트레이닝 데이터 정확도 : 0.920000\n",
      "반복(Epoch): 1000, 트레이닝 데이터 정확도 : 0.940000\n",
      "반복(Epoch): 1100, 트레이닝 데이터 정확도 : 0.980000\n",
      "반복(Epoch): 1200, 트레이닝 데이터 정확도 : 0.980000\n",
      "반복(Epoch): 1300, 트레이닝 데이터 정확도 : 0.960000\n",
      "반복(Epoch): 1400, 트레이닝 데이터 정확도 : 1.000000\n",
      "반복(Epoch): 1500, 트레이닝 데이터 정확도 : 0.980000\n",
      "반복(Epoch): 1600, 트레이닝 데이터 정확도 : 0.940000\n",
      "반복(Epoch): 1700, 트레이닝 데이터 정확도 : 0.980000\n",
      "반복(Epoch): 1800, 트레이닝 데이터 정확도 : 0.920000\n",
      "반복(Epoch): 1900, 트레이닝 데이터 정확도 : 1.000000\n",
      "반복(Epoch): 2000, 트레이닝 데이터 정확도 : 0.980000\n",
      "반복(Epoch): 2100, 트레이닝 데이터 정확도 : 1.000000\n",
      "반복(Epoch): 2200, 트레이닝 데이터 정확도 : 0.980000\n",
      "반복(Epoch): 2300, 트레이닝 데이터 정확도 : 0.960000\n",
      "반복(Epoch): 2400, 트레이닝 데이터 정확도 : 1.000000\n",
      "반복(Epoch): 2500, 트레이닝 데이터 정확도 : 1.000000\n",
      "반복(Epoch): 2600, 트레이닝 데이터 정확도 : 0.960000\n",
      "반복(Epoch): 2700, 트레이닝 데이터 정확도 : 1.000000\n",
      "반복(Epoch): 2800, 트레이닝 데이터 정확도 : 1.000000\n",
      "반복(Epoch): 2900, 트레이닝 데이터 정확도 : 1.000000\n",
      "반복(Epoch): 3000, 트레이닝 데이터 정확도 : 1.000000\n",
      "반복(Epoch): 3100, 트레이닝 데이터 정확도 : 1.000000\n",
      "반복(Epoch): 3200, 트레이닝 데이터 정확도 : 1.000000\n",
      "반복(Epoch): 3300, 트레이닝 데이터 정확도 : 1.000000\n",
      "반복(Epoch): 3400, 트레이닝 데이터 정확도 : 1.000000\n",
      "반복(Epoch): 3500, 트레이닝 데이터 정확도 : 1.000000\n",
      "반복(Epoch): 3600, 트레이닝 데이터 정확도 : 0.980000\n",
      "반복(Epoch): 3700, 트레이닝 데이터 정확도 : 1.000000\n",
      "반복(Epoch): 3800, 트레이닝 데이터 정확도 : 1.000000\n",
      "반복(Epoch): 3900, 트레이닝 데이터 정확도 : 0.980000\n",
      "반복(Epoch): 4000, 트레이닝 데이터 정확도 : 0.960000\n",
      "반복(Epoch): 4100, 트레이닝 데이터 정확도 : 0.960000\n",
      "반복(Epoch): 4200, 트레이닝 데이터 정확도 : 0.980000\n",
      "반복(Epoch): 4300, 트레이닝 데이터 정확도 : 1.000000\n",
      "반복(Epoch): 4400, 트레이닝 데이터 정확도 : 1.000000\n",
      "반복(Epoch): 4500, 트레이닝 데이터 정확도 : 1.000000\n",
      "반복(Epoch): 4600, 트레이닝 데이터 정확도 : 1.000000\n",
      "반복(Epoch): 4700, 트레이닝 데이터 정확도 : 0.960000\n",
      "반복(Epoch): 4800, 트레이닝 데이터 정확도 : 1.000000\n",
      "반복(Epoch): 4900, 트레이닝 데이터 정확도 : 0.960000\n",
      "반복(Epoch): 5000, 트레이닝 데이터 정확도 : 0.980000\n",
      "반복(Epoch): 5100, 트레이닝 데이터 정확도 : 1.000000\n",
      "반복(Epoch): 5200, 트레이닝 데이터 정확도 : 1.000000\n",
      "반복(Epoch): 5300, 트레이닝 데이터 정확도 : 0.980000\n",
      "반복(Epoch): 5400, 트레이닝 데이터 정확도 : 0.980000\n",
      "반복(Epoch): 5500, 트레이닝 데이터 정확도 : 1.000000\n",
      "반복(Epoch): 5600, 트레이닝 데이터 정확도 : 1.000000\n",
      "반복(Epoch): 5700, 트레이닝 데이터 정확도 : 0.980000\n",
      "반복(Epoch): 5800, 트레이닝 데이터 정확도 : 1.000000\n",
      "반복(Epoch): 5900, 트레이닝 데이터 정확도 : 0.980000\n",
      "반복(Epoch): 6000, 트레이닝 데이터 정확도 : 1.000000\n",
      "반복(Epoch): 6100, 트레이닝 데이터 정확도 : 1.000000\n",
      "반복(Epoch): 6200, 트레이닝 데이터 정확도 : 0.980000\n",
      "반복(Epoch): 6300, 트레이닝 데이터 정확도 : 0.980000\n",
      "반복(Epoch): 6400, 트레이닝 데이터 정확도 : 0.980000\n",
      "반복(Epoch): 6500, 트레이닝 데이터 정확도 : 0.980000\n",
      "반복(Epoch): 6600, 트레이닝 데이터 정확도 : 0.980000\n",
      "반복(Epoch): 6700, 트레이닝 데이터 정확도 : 1.000000\n",
      "반복(Epoch): 6800, 트레이닝 데이터 정확도 : 0.980000\n",
      "반복(Epoch): 6900, 트레이닝 데이터 정확도 : 0.980000\n",
      "반복(Epoch): 7000, 트레이닝 데이터 정확도 : 0.980000\n",
      "반복(Epoch): 7100, 트레이닝 데이터 정확도 : 0.980000\n",
      "반복(Epoch): 7200, 트레이닝 데이터 정확도 : 1.000000\n",
      "반복(Epoch): 7300, 트레이닝 데이터 정확도 : 1.000000\n",
      "반복(Epoch): 7400, 트레이닝 데이터 정확도 : 1.000000\n",
      "반복(Epoch): 7500, 트레이닝 데이터 정확도 : 0.980000\n",
      "반복(Epoch): 7600, 트레이닝 데이터 정확도 : 1.000000\n",
      "반복(Epoch): 7700, 트레이닝 데이터 정확도 : 1.000000\n",
      "반복(Epoch): 7800, 트레이닝 데이터 정확도 : 1.000000\n",
      "반복(Epoch): 7900, 트레이닝 데이터 정확도 : 1.000000\n",
      "반복(Epoch): 8000, 트레이닝 데이터 정확도 : 1.000000\n",
      "반복(Epoch): 8100, 트레이닝 데이터 정확도 : 1.000000\n",
      "반복(Epoch): 8200, 트레이닝 데이터 정확도 : 1.000000\n",
      "반복(Epoch): 8300, 트레이닝 데이터 정확도 : 1.000000\n",
      "반복(Epoch): 8400, 트레이닝 데이터 정확도 : 1.000000\n",
      "반복(Epoch): 8500, 트레이닝 데이터 정확도 : 1.000000\n",
      "반복(Epoch): 8600, 트레이닝 데이터 정확도 : 1.000000\n",
      "반복(Epoch): 8700, 트레이닝 데이터 정확도 : 1.000000\n",
      "반복(Epoch): 8800, 트레이닝 데이터 정확도 : 1.000000\n",
      "반복(Epoch): 8900, 트레이닝 데이터 정확도 : 1.000000\n",
      "반복(Epoch): 9000, 트레이닝 데이터 정확도 : 1.000000\n",
      "반복(Epoch): 9100, 트레이닝 데이터 정확도 : 1.000000\n",
      "반복(Epoch): 9200, 트레이닝 데이터 정확도 : 0.980000\n",
      "반복(Epoch): 9300, 트레이닝 데이터 정확도 : 1.000000\n",
      "반복(Epoch): 9400, 트레이닝 데이터 정확도 : 1.000000\n",
      "반복(Epoch): 9500, 트레이닝 데이터 정확도 : 1.000000\n",
      "반복(Epoch): 9600, 트레이닝 데이터 정확도 : 1.000000\n",
      "반복(Epoch): 9700, 트레이닝 데이터 정확도 : 1.000000\n",
      "반복(Epoch): 9800, 트레이닝 데이터 정확도 : 0.980000\n",
      "반복(Epoch): 9900, 트레이닝 데이터 정확도 : 1.000000\n",
      "테스트 데이터 정확도: 0.990800\n"
     ]
    }
   ],
   "source": [
    "# 세션을 열어 실제 학습 진행\n",
    "with tf.Session() as sess : \n",
    "    sess.run(tf.global_variables_initializer())\n",
    "    \n",
    "    # 10000 step 만큼 최적화 수행\n",
    "    for i in range(10000): \n",
    "        # 50 개씩 MNIST 데이터 불러온다. \n",
    "        batch = mnist.train.next_batch(50)\n",
    "        # 100 step 마다 training 데이터셋에 대한 정확도 출력\n",
    "        if i % 100 == 0 : \n",
    "            train_accuracy = accuracy.eval(feed_dict={x:batch[0],y:batch[1]})\n",
    "            print(\"반복(Epoch): %d, 트레이닝 데이터 정확도 : %f\" % (i, train_accuracy))\n",
    "        # 옵티마이저를 실행해 파라미터를 한 스텝 업데이트\n",
    "        sess.run([train_step], feed_dict={x:batch[0],y:batch[1]})\n",
    "        \n",
    "    # 학습이 끝나면 테스트 데이터에 대한 정확도를 출력 \n",
    "    print(\"테스트 데이터 정확도: %f\" % accuracy.eval(feed_dict={x:mnist.test.images, y:mnist.test.labels}))"
   ]
  },
  {
   "cell_type": "markdown",
   "metadata": {},
   "source": [
    "## CNN을 이용한 CIFAR-10 이미지 분류기 구현 "
   ]
  },
  {
   "cell_type": "code",
   "execution_count": 6,
   "metadata": {},
   "outputs": [],
   "source": [
    "import numpy as np"
   ]
  },
  {
   "cell_type": "code",
   "execution_count": 7,
   "metadata": {},
   "outputs": [],
   "source": [
    "# CIFAR-10 데이터를 다운로드 받기 위한 keras의 helper함수인 load_data함수를 임포트 \n",
    "from tensorflow.keras.datasets.cifar10 import load_data\n"
   ]
  },
  {
   "cell_type": "code",
   "execution_count": 8,
   "metadata": {},
   "outputs": [],
   "source": [
    "# 다음 배치를 읽어오기 위한 next_batch 유틸리티 함수를 정의 \n",
    "def next_batch(num, data, labels): \n",
    "    '''\n",
    "    'num' 개수 만큼의 랜덤한 샘플들과 레이블들을 리턴한다. \n",
    "    '''\n",
    "    idx = np.arange(0,len(data))\n",
    "    np.random.shuffle(idx)\n",
    "    idx = idx[:num]\n",
    "    data_shuffle = [data[i] for i in idx]\n",
    "    labels_shuffle = [labels[i] for i in idx]\n",
    "    \n",
    "    return np.asarray(data_shuffle), np.asarray(labels_shuffle)\n"
   ]
  },
  {
   "cell_type": "code",
   "execution_count": 10,
   "metadata": {},
   "outputs": [],
   "source": [
    "# CNN 모델 정의 \n",
    "def build_CNN_classifier(x): \n",
    "    # 입력 이미지\n",
    "    x_image = x\n",
    "    \n",
    "    # 1번째 컨볼루션층 - 하나의 RCB 이미지를 64개의 특징들(feature)으로 맵핑(maping)한다.\n",
    "    W_conv1 = tf.Variable(tf.truncated_normal(shape=[5,5,3,64],stddev = 5e-2))\n",
    "    b_conv1 = tf.Variable(tf.constant(0.1, shape=[64]))\n",
    "    h_conv1 = tf.nn.relu(tf.nn.conv2d(x_image, W_conv1, strides = [1,1,1,1],padding='SAME') + b_conv1)\n",
    "    \n",
    "    # 1번째 풀링층\n",
    "    h_pool1 = tf.nn.max_pool(h_conv1, ksize=[1,3,3,1],strides=[1,2,2,1],padding='SAME')\n",
    "    \n",
    "    # 2번째 컨볼루션층 - 64개의 특징들을 64개의 특징들로 맵핑한다. \n",
    "    W_conv2 = tf.Variable(tf.truncated_normal(shape=[5,5,64,64],stddev=5e-2))\n",
    "    b_conv2 = tf.Variable(tf.constant(0.1, shape=[64]))\n",
    "    h_conv2 = tf.nn.relu(tf.nn.conv2d(h_pool1, W_conv2, strides=[1,1,1,1],padding='SAME') + b_conv2)\n",
    "    \n",
    "    # 2번째 풀링층 \n",
    "    h_pool2 = tf.nn.max_pool(h_conv2, ksize=[1,3,3,1],strides=[1,2,2,1],padding='SAME')\n",
    "    \n",
    "    # 3번째 컨볼루션층 \n",
    "    W_conv3 = tf.Variable(tf.truncated_normal(shape=[3,3,64,128],stddev=5e-2))\n",
    "    b_conv3 = tf.Variable(tf.constant(0.1, shape=[128]))\n",
    "    h_conv3 = tf.nn.relu(tf.nn.conv2d(h_pool2, W_conv3, strides=[1,1,1,1],padding='SAME')+b_conv3)\n",
    "    \n",
    "    # 4번째 컨볼루션층 \n",
    "    W_conv4 = tf.Variable(tf.truncated_normal(shape=[3,3,128,128],stddev=5e-2))\n",
    "    b_conv4 = tf.Variable(tf.constant(0.1,shape=[128]))\n",
    "    h_conv4 = tf.nn.relu(tf.nn.conv2d(h_conv3, W_conv4, strides=[1,1,1,1],padding='SAME')+b_conv4)\n",
    "    \n",
    "    # 5번째 컨볼루션층 \n",
    "    W_conv5 = tf.Variable(tf.truncated_normal(shape=[3,3,128,128],stddev=5e-2))\n",
    "    b_conv5 = tf.Variable(tf.constant(0.1,shape=[128]))\n",
    "    h_conv5 = tf.nn.relu(tf.nn.conv2d(h_conv4, W_conv5, strides=[1,1,1,1],padding='SAME')+b_conv5)\n",
    "    \n",
    "    # 완전 연결층 1 - 2번의 downsampling 이후에, 우리의 32 x 32 이미지는 8x8x128 특징맵(feature map)이 된다. \n",
    "    # 이를 384개의 특징들로 맵핑한다. \n",
    "    W_fc1 = tf.Variable(tf.truncated_normal(shape=[8*8*128, 384], stddev = 5e-2))\n",
    "    b_fc1 = tf.Variable(tf.constant(0.1, shape=[384]))\n",
    "    \n",
    "    h_conv5_flat = tf.reshape(h_conv5,[-1,8*8*128])\n",
    "    h_fc1 = tf.nn.relu(tf.matmul(h_conv5_flat, W_fc1)+b_fc1)\n",
    "    \n",
    "    # 드롭아웃 - 모델의 복잡도를 컨트롤. 특징들의 co-adapting을 방지 \n",
    "    h_fc1_drop = tf.nn.dropout(h_fc1, keep_prob)\n",
    "    \n",
    "    # 완전 연결층 2 - 384개의 특징들을 10개의 클래스로 맵핑\n",
    "    W_fc2 = tf.Variable(tf.truncated_normal(shape=[384,10],stddev=5e-2))\n",
    "    b_fc2 = tf.Variable(tf.constant(0.1,shape=[10]))\n",
    "    logits = tf.matmul(h_fc1_drop,W_fc2)+b_fc2\n",
    "    y_pred = tf.nn.softmax(logits)\n",
    "    \n",
    "    return y_pred, logits"
   ]
  },
  {
   "cell_type": "code",
   "execution_count": 11,
   "metadata": {},
   "outputs": [],
   "source": [
    "x = tf.placeholder(tf.float32, shape=[None, 32,32,3])\n",
    "y = tf.placeholder(tf.float32, shape=[None, 10])\n",
    "keep_prob = tf.placeholder(tf.float32)"
   ]
  },
  {
   "cell_type": "code",
   "execution_count": 12,
   "metadata": {},
   "outputs": [],
   "source": [
    "# CIFAR-10 데이터를 다운로드하고 데이터를 불러온다. \n",
    "(x_train, y_train), (x_test, y_test) = load_data()\n",
    "# scalar 형태의 레이블(0~9)을 one-hot encoding 형태로 반환\n",
    "y_train_one_hot = tf.squeeze(tf.one_hot(y_train, 10), axis = 1)\n",
    "y_test_one_hot = tf.squeeze(tf.one_hot(y_test,10),axis = 1)"
   ]
  },
  {
   "cell_type": "code",
   "execution_count": 13,
   "metadata": {},
   "outputs": [
    {
     "name": "stdout",
     "output_type": "stream",
     "text": [
      "WARNING:tensorflow:From <ipython-input-10-c1a468deb770>:46: calling dropout (from tensorflow.python.ops.nn_ops) with keep_prob is deprecated and will be removed in a future version.\n",
      "Instructions for updating:\n",
      "Please use `rate` instead of `keep_prob`. Rate should be set to `rate = 1 - keep_prob`.\n"
     ]
    }
   ],
   "source": [
    "# CNN 그래프 생성\n",
    "y_pred, logits = build_CNN_classifier(x)"
   ]
  },
  {
   "cell_type": "code",
   "execution_count": 14,
   "metadata": {},
   "outputs": [
    {
     "name": "stdout",
     "output_type": "stream",
     "text": [
      "WARNING:tensorflow:From <ipython-input-14-18214349d91f>:2: softmax_cross_entropy_with_logits (from tensorflow.python.ops.nn_ops) is deprecated and will be removed in a future version.\n",
      "Instructions for updating:\n",
      "\n",
      "Future major versions of TensorFlow will allow gradients to flow\n",
      "into the labels input on backprop by default.\n",
      "\n",
      "See `tf.nn.softmax_cross_entropy_with_logits_v2`.\n",
      "\n",
      "WARNING:tensorflow:From C:\\ProgramData\\Anaconda3\\lib\\site-packages\\tensorflow_core\\python\\training\\rmsprop.py:119: calling Ones.__init__ (from tensorflow.python.ops.init_ops) with dtype is deprecated and will be removed in a future version.\n",
      "Instructions for updating:\n",
      "Call initializer instance with the dtype argument instead of passing it to the constructor\n"
     ]
    }
   ],
   "source": [
    "# Cross entropy를 비용 함수로 정의, RMSPropOptimizer 을 이용해서 비용 함수를 최소화 \n",
    "loss = tf.reduce_mean(tf.nn.softmax_cross_entropy_with_logits(labels=y,logits=logits))\n",
    "train_step = tf.train.RMSPropOptimizer(1e-3).minimize(loss)"
   ]
  },
  {
   "cell_type": "code",
   "execution_count": 15,
   "metadata": {},
   "outputs": [],
   "source": [
    "# 정확도 계산\n",
    "correct_prediction = tf.equal(tf.argmax(y_pred, 1), tf.argmax(y,1))\n",
    "accuracy = tf.reduce_mean(tf.cast(correct_prediction, tf.float32))"
   ]
  },
  {
   "cell_type": "code",
   "execution_count": null,
   "metadata": {},
   "outputs": [
    {
     "name": "stdout",
     "output_type": "stream",
     "text": [
      "반복(Epoch): 0, 트레이닝 데이터 정확도 : 0.093750, 손실 함수(loss):137.367584\n",
      "반복(Epoch): 100, 트레이닝 데이터 정확도 : 0.195312, 손실 함수(loss):2.230953\n",
      "반복(Epoch): 200, 트레이닝 데이터 정확도 : 0.140625, 손실 함수(loss):2.415778\n",
      "반복(Epoch): 300, 트레이닝 데이터 정확도 : 0.265625, 손실 함수(loss):1.915620\n",
      "반복(Epoch): 400, 트레이닝 데이터 정확도 : 0.343750, 손실 함수(loss):1.837606\n",
      "반복(Epoch): 500, 트레이닝 데이터 정확도 : 0.414062, 손실 함수(loss):1.570273\n",
      "반복(Epoch): 600, 트레이닝 데이터 정확도 : 0.500000, 손실 함수(loss):1.399151\n"
     ]
    }
   ],
   "source": [
    "# 세션을 열어 실제 학습 진행 \n",
    "with tf.Session() as sess : \n",
    "    sess.run(tf.global_variables_initializer())\n",
    "    \n",
    "    # 10000 step 만큼 최적화 수행\n",
    "    for i in range(10000): \n",
    "        \n",
    "        batch = next_batch(128, x_train, y_train_one_hot.eval())\n",
    "        # 100 step 마다 training 데이터셋에 대한 정확도와 loss 출력\n",
    "        if i % 100 == 0 : \n",
    "            train_accuracy = accuracy.eval(feed_dict={x:batch[0],y:batch[1], keep_prob:1.0})\n",
    "            loss_print = loss.eval(feed_dict={x:batch[0],y:batch[1], keep_prob:1.0})\n",
    "            \n",
    "            print(\"반복(Epoch): %d, 트레이닝 데이터 정확도 : %f, 손실 함수(loss):%f\" % (i, train_accuracy,loss_print))\n",
    "            \n",
    "        # 20% 확률의 드롭아웃을 이용해서 학습을 진행 \n",
    "        sess.run([train_step], feed_dict={x:batch[0],y:batch[1], keep_prob : 0.8})\n",
    "        \n",
    "    # 학습이 끝나면 테스트 데이터에 대한 정확도를 출력 \n",
    "    test_accuracy = 0.0\n",
    "    for i in range(10): \n",
    "        test_batch = next_batch(1000, x_test, y_test_one_hot.eval())\n",
    "        test_accuracy = test_accuracy + accuracy.eval(feed_dict={x:test_batch[0],y:test_batch[1],keep_prob:1.0})\n",
    "        test_accuracy=test_accuracy / 10 ;\n",
    "    \n",
    "        print(\"테스트 데이터 정확도: %f\" % test_accuracy)"
   ]
  },
  {
   "cell_type": "code",
   "execution_count": 5,
   "metadata": {},
   "outputs": [
    {
     "name": "stdout",
     "output_type": "stream",
     "text": [
      "1.15.0\n"
     ]
    }
   ],
   "source": [
    "print(tf.__version__)"
   ]
  },
  {
   "cell_type": "code",
   "execution_count": null,
   "metadata": {},
   "outputs": [],
   "source": []
  }
 ],
 "metadata": {
  "kernelspec": {
   "display_name": "Python 3",
   "language": "python",
   "name": "python3"
  },
  "language_info": {
   "codemirror_mode": {
    "name": "ipython",
    "version": 3
   },
   "file_extension": ".py",
   "mimetype": "text/x-python",
   "name": "python",
   "nbconvert_exporter": "python",
   "pygments_lexer": "ipython3",
   "version": "3.7.6"
  }
 },
 "nbformat": 4,
 "nbformat_minor": 4
}
