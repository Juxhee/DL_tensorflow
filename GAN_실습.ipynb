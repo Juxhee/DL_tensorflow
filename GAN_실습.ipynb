{
  "nbformat": 4,
  "nbformat_minor": 0,
  "metadata": {
    "colab": {
      "name": "GAN 실습.ipynb",
      "provenance": [],
      "private_outputs": true,
      "collapsed_sections": [],
      "authorship_tag": "ABX9TyMacQm/CQJHXthbJxfekNzj",
      "include_colab_link": true
    },
    "kernelspec": {
      "name": "python3",
      "display_name": "Python 3"
    }
  },
  "cells": [
    {
      "cell_type": "markdown",
      "metadata": {
        "id": "view-in-github",
        "colab_type": "text"
      },
      "source": [
        "<a href=\"https://colab.research.google.com/github/Juxhee/Git-Tutorial/blob/master/GAN_%EC%8B%A4%EC%8A%B5.ipynb\" target=\"_parent\"><img src=\"https://colab.research.google.com/assets/colab-badge.svg\" alt=\"Open In Colab\"/></a>"
      ]
    },
    {
      "cell_type": "code",
      "metadata": {
        "id": "xCqLbPnnGZol",
        "colab_type": "code",
        "colab": {}
      },
      "source": [
        "import tensorflow as tf\n",
        "import numpy as np\n",
        "import matplotlib.pyplot as plt\n",
        "import matplotlib.gridspec as gridspec\n",
        "import os"
      ],
      "execution_count": 0,
      "outputs": []
    },
    {
      "cell_type": "code",
      "metadata": {
        "id": "2WMextvLGm3a",
        "colab_type": "code",
        "colab": {}
      },
      "source": [
        "# MNIST 데이터를 다운로드하고 불러온다\n",
        "from tensorflow.examples.tutorials.mnist import input_data\n",
        "mnist = input_data.read_data_sets(\"/tmp/data/\",one_hot = True)\n"
      ],
      "execution_count": 0,
      "outputs": []
    },
    {
      "cell_type": "code",
      "metadata": {
        "id": "JTQ8BixLG2gJ",
        "colab_type": "code",
        "colab": {}
      },
      "source": [
        "print(tf.__version__)"
      ],
      "execution_count": 0,
      "outputs": []
    },
    {
      "cell_type": "code",
      "metadata": {
        "id": "OyzjJK4xG2nn",
        "colab_type": "code",
        "colab": {}
      },
      "source": [
        "!pip uninstall tensorflow\n",
        "!pip install tensorflow==1.15"
      ],
      "execution_count": 0,
      "outputs": []
    },
    {
      "cell_type": "code",
      "metadata": {
        "id": "bXSCddBsG2vz",
        "colab_type": "code",
        "colab": {}
      },
      "source": [
        "import tensorflow as tf\n",
        "print(tf.__version__)"
      ],
      "execution_count": 0,
      "outputs": []
    },
    {
      "cell_type": "code",
      "metadata": {
        "id": "d6JmNVH5G23H",
        "colab_type": "code",
        "colab": {}
      },
      "source": [
        "import numpy as np\n",
        "import matplotlib.pyplot as plt\n",
        "import matplotlib.gridspec as gridspec\n",
        "import os"
      ],
      "execution_count": 0,
      "outputs": []
    },
    {
      "cell_type": "code",
      "metadata": {
        "id": "6BevX-QiG2_D",
        "colab_type": "code",
        "colab": {}
      },
      "source": [
        "# 생성된 MNIST 이미지를  8x8 Grid로 보여주는 plot 함수를 정의 \n",
        "def plot(samples):\n",
        "  fig = plt.figure(figsize=(8,8))\n",
        "  gs = gridspec.GridSpec(8,8)\n",
        "  gs.update(wspace = 0.05, hspace = 0.05)\n",
        "  \n",
        "  for i, sample in enumerate(samples):\n",
        "    ax = plt.subplot(gs[i])\n",
        "    plt.axis('off')\n",
        "    plt.imshow(sample.reshape(28,28))\n",
        "  return fig"
      ],
      "execution_count": 0,
      "outputs": []
    },
    {
      "cell_type": "code",
      "metadata": {
        "id": "AG_5QNvnIrk0",
        "colab_type": "code",
        "colab": {}
      },
      "source": [
        "# 설정값 선언\n",
        "num_epoch = 100000\n",
        "batch_size = 64\n",
        "num_input = 28*28 # 784\n",
        "num_latent_variable = 100 # 잠재변수 z의 차원\n",
        "num_hidden = 128\n",
        "learning_rate = 0.001"
      ],
      "execution_count": 0,
      "outputs": []
    },
    {
      "cell_type": "code",
      "metadata": {
        "id": "vSvL8GKcIrqr",
        "colab_type": "code",
        "colab": {}
      },
      "source": [
        "# 플레이스홀더 선언\n",
        "X = tf.placeholder(tf.float32, shape=[None, num_input]) # 인풋 이미지\n",
        "z = tf.placeholder(tf.float32, shape=[None, num_latent_variables]) # 인풋 latent variable"
      ],
      "execution_count": 0,
      "outputs": []
    },
    {
      "cell_type": "code",
      "metadata": {
        "id": "TVGJ7PfRIryj",
        "colab_type": "code",
        "colab": {}
      },
      "source": [
        "# Generator 변수들 설정 \n",
        "# 100 -> 128 -> 784\n",
        "with tf.variable_scope('generator'):\n",
        "  # 은닉층 파라미터\n",
        "  G_W1 = tf.Variable(tf.random_normal(shape=[num_latent_variable, num_hidden], stddev = 5e-2))\n",
        "  G_b1 = tf.Variable(tf.constant(0.1, shape=[num_hidden]))\n",
        "  # 출력층 파라미터\n",
        "  G_W2 = tf.Variable(tf.random_normal(shape=[num_hidden, num_input],stddev=5e-2))\n",
        "  G_b2 = tf.Variable(tf.constant(0.1, shape=[num_input]))\n"
      ],
      "execution_count": 0,
      "outputs": []
    },
    {
      "cell_type": "code",
      "metadata": {
        "id": "S-JaEfhJIr6Q",
        "colab_type": "code",
        "colab": {}
      },
      "source": [
        "# Discriminator 변수들을 설정\n",
        "# 784 -> 128 -> 1\n",
        "with tf.variable_scope('discriminator'):\n",
        "  # 은닉층 파라미터\n",
        "  D_W1 = tf.Variable(tf.random_normal(shape=[num_input, num_hidden],stddev = 5e-2))\n",
        "  D_b1 = tf.Variable(tf.constant(0.1, shape=[num_hidden]))\n",
        "  # 출력층 파라미터 \n",
        "  D_W2 = tf.Variable(tf.random_normal(shape=[num_hidden, 1],stddev=5e-2))\n",
        "  D_b2 = tf.Variable(tf.constant(0.1, shape=[1]))"
      ],
      "execution_count": 0,
      "outputs": []
    },
    {
      "cell_type": "code",
      "metadata": {
        "id": "ApzlFn2NIsB0",
        "colab_type": "code",
        "colab": {}
      },
      "source": [
        "# Generator를 생성하는 함수 정의 \n",
        "# Inputs : \n",
        "#  X : 인풋 Latent Variable\n",
        "# Outputs : \n",
        "#  generated_mnist_image : 생성된 MNIST 이미지\n",
        "def build_generator(X):\n",
        "  hidden_layer = tf.nn.relu((tf.matmul(X, G_W1) + G_b1))\n",
        "  output_layer = tf.matmul(hidden_layer, G_W2) + G_b2\n",
        "  generated_mnist_image = tf.nn.sigmoid(output_layer)\n",
        "\n",
        "  return generated_mnist_image"
      ],
      "execution_count": 0,
      "outputs": []
    },
    {
      "cell_type": "code",
      "metadata": {
        "id": "_rQTooElNH_4",
        "colab_type": "code",
        "colab": {}
      },
      "source": [
        "# Discriminator를 생성하는 함수 정의 \n",
        "# Inputs : \n",
        "#  X : 인풋 이미지\n",
        "# Outputs : \n",
        "#  predicted_value : Discriminator가 판단한 True(1) or Fake(0)\n",
        "# logits : sigmoid를 씌우기 전의 출력값\n",
        "def build_discriminator(X):\n",
        "  hidden_layer = tf.nn.relu((tf.matmul(X,D_W1) + D_b1))\n",
        "  logits = tf.matmul(hidden_layer, D_W2)+D_b2\n",
        "  predicted_value = tf.nn.sigmoid(logits)\n",
        "\n",
        "  return predicted_value, logits"
      ],
      "execution_count": 0,
      "outputs": []
    },
    {
      "cell_type": "code",
      "metadata": {
        "id": "PYiW7NcFNIaf",
        "colab_type": "code",
        "colab": {}
      },
      "source": [
        "# 생성자(Generator) 선언\n",
        "G = build_generator(z)\n",
        "\n",
        "# 구분자(Discriminator) 선언\n",
        "D_real, D_real_logits = build_discriminator(X) # D(x)\n",
        "D_fake, D_fake_logits = build_discriminator(G) # D(G(z))"
      ],
      "execution_count": 0,
      "outputs": []
    },
    {
      "cell_type": "code",
      "metadata": {
        "id": "iqTGH9a4NIi6",
        "colab_type": "code",
        "colab": {}
      },
      "source": [
        "# Discriminator의 손실 함수 정의\n",
        "d_loss_real = tf.reduce_mean(tf.nn.sigmoid_cross_entropy_with_logits(logits=D_real_logits, labels = tf.ones_like(D_real_logits))) # log(D(x))\n",
        "d_loss_fake = tf.reduce_mean(tf.nn.sigmoid_cross_entropy_with_logits(logits=D_fake_logits, labels = tf.zeros_like(D_fake_logits))) # log(1-D(G(z)))\n",
        "d_loss = d_loss_real + d_loss_fake # log(D(x)) + log(1-D(G(z)))"
      ],
      "execution_count": 0,
      "outputs": []
    },
    {
      "cell_type": "code",
      "metadata": {
        "id": "CLsRFeAzPrQu",
        "colab_type": "code",
        "colab": {}
      },
      "source": [
        "# Generator의 손실 함수 정의 \n",
        "g_loss = tf.reduce_mean(tf.nn.sigmoid_cross_entropy_with_logits(logits=D_fake_logits, labels=tf.ones_like(D_fake_logits))) # log(D(G(z)))"
      ],
      "execution_count": 0,
      "outputs": []
    },
    {
      "cell_type": "code",
      "metadata": {
        "id": "3Y_qPU5iPrXe",
        "colab_type": "code",
        "colab": {}
      },
      "source": [
        "# 전체 파라미터를 Discriminator와 관련된 파라미터와 Generator와 관련된 파라미터로 나눈다 \n",
        "tvar = tf.trainable_variables()\n",
        "dvar = [var for var in tvar if 'discriminator' in var.name]\n",
        "gvar = [var for var in tvar if 'generator' in var.name]"
      ],
      "execution_count": 0,
      "outputs": []
    },
    {
      "cell_type": "code",
      "metadata": {
        "id": "RegEtt__PrfT",
        "colab_type": "code",
        "colab": {}
      },
      "source": [
        "# Discriminator와 Generator의 Optimizer을 정의 \n",
        "d_train_step = tf.train.AdamOptimizer(learning_rate).minimize(d_loss, var_list = dvar)\n",
        "g_train_step = tf.train.AdamOptimizer(learning_rate).minimize(g_loss, var_list = gvar)"
      ],
      "execution_count": 0,
      "outputs": []
    },
    {
      "cell_type": "code",
      "metadata": {
        "id": "ST0YbAFsPrng",
        "colab_type": "code",
        "colab": {}
      },
      "source": [
        "# 생성된 이미지들을 저장할 generated_output 폴더 생성\n",
        "num_img = 0 \n",
        "if not os.path.exists('generated_output/'):\n",
        "  os.makedirs('generated_output/')\n"
      ],
      "execution_count": 0,
      "outputs": []
    },
    {
      "cell_type": "code",
      "metadata": {
        "id": "ofXCT6DERvIw",
        "colab_type": "code",
        "colab": {}
      },
      "source": [
        "# 그래프 실행 \n",
        "with tf.Session() as sess:\n",
        "  #변수들에 초기값 할당\n",
        "  sess.run(tf.global_variables_initializer())\n",
        "\n",
        "  # num_epoch 횟수만큼 최적화 수행\n",
        "  for i in range(num_epoch):\n",
        "    # MNIST 이미지를 batch_size 만큼 불러온다. \n",
        "    batch_X, _ = mnist.train.next_batch(batch_size)\n",
        "    # Latent Variable의 인풋으로 사용할 noise를 Uniform Distribution 에서 batch_size 개수만큼 샘플링 \n",
        "    batch_noise = np.random.uniform(-1., 1., [batch_size, 100])\n",
        "\n",
        "    # 500번 반복할때마다 생성된 이미지를 저장\n",
        "    if i % 500 == 0 :\n",
        "      samples = sess.run(G, feed_dict = {z: np.random.uniform(-1., 1., [64,100])})\n",
        "      fig = plot(samples)\n",
        "      plt.savefig('generated_output/%s.png' % str(num_img).zfill(3),bbox_inches='tight')\n",
        "      num_img += 1\n",
        "      plt.close(fig)\n",
        "    \n",
        "    # Discriminator 최적화를 수행하고 Discriminator의 손실 함수를 return \n",
        "    _, d_loss_print = sess.run([d_train_step, d_loss], feed_dict={X:batch_X, z :batch_noise})\n",
        "\n",
        "    # Generator 최적화를 수행하고 Generator손실 함수를 return \n",
        "    _, g_loss_print = sess.run([g_train_step, g_loss],feed_dict={z:batch_noise})\n",
        "\n",
        "    # 100번 반복할때마다 Discriminator의 손실 함수를 return\n",
        "    if i % 100 == 0 :\n",
        "      print('반복(Epoch): %d, Generator 손실 함수(g_loss):%f, Discriminator손실 함수(d_loss): %f' % (i, g_loss_print, d_loss_print))"
      ],
      "execution_count": 0,
      "outputs": []
    },
    {
      "cell_type": "code",
      "metadata": {
        "id": "xOkUyQ3SRvOi",
        "colab_type": "code",
        "colab": {}
      },
      "source": [
        ""
      ],
      "execution_count": 0,
      "outputs": []
    },
    {
      "cell_type": "code",
      "metadata": {
        "id": "QqacJSHFRvVO",
        "colab_type": "code",
        "colab": {}
      },
      "source": [
        ""
      ],
      "execution_count": 0,
      "outputs": []
    },
    {
      "cell_type": "code",
      "metadata": {
        "id": "OWOzIXAgRveC",
        "colab_type": "code",
        "colab": {}
      },
      "source": [
        ""
      ],
      "execution_count": 0,
      "outputs": []
    },
    {
      "cell_type": "code",
      "metadata": {
        "id": "FyOvlFs-Prt5",
        "colab_type": "code",
        "colab": {}
      },
      "source": [
        ""
      ],
      "execution_count": 0,
      "outputs": []
    },
    {
      "cell_type": "code",
      "metadata": {
        "id": "V8Ug8PFQPr05",
        "colab_type": "code",
        "colab": {}
      },
      "source": [
        ""
      ],
      "execution_count": 0,
      "outputs": []
    },
    {
      "cell_type": "code",
      "metadata": {
        "id": "zXDjeqqgIsJN",
        "colab_type": "code",
        "colab": {}
      },
      "source": [
        ""
      ],
      "execution_count": 0,
      "outputs": []
    }
  ]
}